{
 "cells": [
  {
   "cell_type": "code",
   "execution_count": 8,
   "metadata": {},
   "outputs": [
    {
     "name": "stdout",
     "output_type": "stream",
     "text": [
      "-6.754344221360569 14.02556846149546 -6.597826347737361 -5.39593083203024\n"
     ]
    }
   ],
   "source": [
    "import numpy as np\n",
    "import matplotlib.pyplot as plt\n",
    "from scipy.special import expit\n",
    "\n",
    "r_ripe=[0.804,0.871,0.867,0.984313725,0.988235294,0.968627451,0.874509804,0.964705882,0.988235294,0.996078431]\n",
    "g_ripe=[0.694,0.749,0.655,0.8,0.890196078,0.77254902,0.643137255,0.752941176,0.749019608,0.839215686]\n",
    "b_ripe=[0.2,0.271,0.114,0.164705882,0.325490196,0.164705882,0.062745098,0.403921569,0.231372549,0.407843137]\n",
    "r_unripe=[0.823529412,0.709803922,0.725490196,0.658823529,0.807843137,0.945098039,0.894117647,0.901960784,0.803921569,0.807843137,0.505882353,0.380392157,0.443137255,0.423529412,0.57254902,0.360784314,0.203921569,0.333333333,0.447058824,0.48627451]\n",
    "g_unripe=[0.811764706,0.701960784,0.694117647,0.690196078,0.741176471,1,1,0.874509804,0.882352941,0.8,0.62745098,0.521568627,0.580392157,0.533333333,0.568627451,0.658823529,0.305882353,0.545098039,0.62745098,0.654901961]\n",
    "b_unripe=[0.309803922,0.215686275,0.129411765,0.2,0.203921569,0.631372549,0.537254902,0.482352941,0.419607843,0.301960784,0.168627451,0.090196078,0.168627451,0.082352941,0.141176471,0.356862745,0.168627451,0.270588235,0.015686275,0.22745098]\n",
    "#Combining features\n",
    "x = r_ripe + r_unripe\n",
    "y = g_ripe + g_unripe\n",
    "w = b_ripe + b_unripe\n",
    "\n",
    "\n",
    "\n",
    "weights1 = [0,0,0,0]\n",
    "\n",
    "rate= 0.5\n",
    "\n",
    "def function(a):\n",
    "    return scipy.special.expit(a)\n",
    "    \n",
    "for i in range(100):\n",
    "    for j in range(30):\n",
    "        if j < 10:\n",
    "            d = 1\n",
    "        else:\n",
    "            d = 0\n",
    "        a = weights1[0] + x[j]*weights1[1] + y[j]*weights1[2] + w[j]*weights1[3]\n",
    "        z = function(a)\n",
    "        \n",
    "        \n",
    "        weights1[0] += rate*(d-z)\n",
    "        weights1[1] += rate*(d-z)*x[j]\n",
    "        weights1[2] += rate*(d-z)*y[j]\n",
    "        weights1[3] += rate*(d-z)*w[j]\n",
    "\n",
    "\n",
    "\n",
    "w0 = weights1[0]\n",
    "w1 = weights1[1]\n",
    "w2 = weights1[2]\n",
    "w3 = weights1[3]\n",
    "\n",
    "\n",
    "print(w0,w1,w2,w3)\n"
   ]
  },
  {
   "cell_type": "code",
   "execution_count": null,
   "metadata": {},
   "outputs": [],
   "source": []
  }
 ],
 "metadata": {
  "kernelspec": {
   "display_name": "Python 3",
   "language": "python",
   "name": "python3"
  },
  "language_info": {
   "codemirror_mode": {
    "name": "ipython",
    "version": 3
   },
   "file_extension": ".py",
   "mimetype": "text/x-python",
   "name": "python",
   "nbconvert_exporter": "python",
   "pygments_lexer": "ipython3",
   "version": "3.7.3"
  }
 },
 "nbformat": 4,
 "nbformat_minor": 2
}
